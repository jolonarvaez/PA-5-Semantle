{
  "cells": [
    {
      "cell_type": "markdown",
      "metadata": {
        "id": "3i3m9JjeM5U5"
      },
      "source": [
        "# **Programming Assessment \\#5**\n",
        "\n",
        "Names: Jose Wilfredo S. Narvaez, Manolo L. Enriquez\n",
        "\n",
        "More information on the assessment is found in our Canvas course. Link: https://dlsu.instructure.com/courses/93383/assignments/841058/"
      ]
    },
    {
      "cell_type": "markdown",
      "metadata": {
        "id": "HxtmCAZwNoeU"
      },
      "source": [
        "# **Load Pre-trained Embeddings**\n",
        "\n",
        "*While you don't have to separate your code into blocks, it might be easier if you separated loading / downloading your data from the main part of your solution. Consider placing all loading of data into the code block below.*"
      ]
    },
    {
      "cell_type": "code",
      "execution_count": 2,
      "metadata": {
        "colab": {
          "base_uri": "https://localhost:8080/"
        },
        "id": "CbvxU2oTM4IV",
        "outputId": "d65d3f76-8c65-4bc5-e459-385421162d90"
      },
      "outputs": [
        {
          "output_type": "stream",
          "name": "stdout",
          "text": [
            "--2022-06-09 17:57:56--  https://nlp.stanford.edu/data/glove.6B.zip\n",
            "Resolving nlp.stanford.edu (nlp.stanford.edu)... 171.64.67.140\n",
            "Connecting to nlp.stanford.edu (nlp.stanford.edu)|171.64.67.140|:443... connected.\n",
            "HTTP request sent, awaiting response... 301 Moved Permanently\n",
            "Location: http://downloads.cs.stanford.edu/nlp/data/glove.6B.zip [following]\n",
            "--2022-06-09 17:57:57--  http://downloads.cs.stanford.edu/nlp/data/glove.6B.zip\n",
            "Resolving downloads.cs.stanford.edu (downloads.cs.stanford.edu)... 171.64.64.22\n",
            "Connecting to downloads.cs.stanford.edu (downloads.cs.stanford.edu)|171.64.64.22|:80... connected.\n",
            "HTTP request sent, awaiting response... 200 OK\n",
            "Length: 862182613 (822M) [application/zip]\n",
            "Saving to: ‘glove.6B.zip’\n",
            "\n",
            "glove.6B.zip        100%[===================>] 822.24M  5.00MB/s    in 2m 41s  \n",
            "\n",
            "2022-06-09 18:00:38 (5.12 MB/s) - ‘glove.6B.zip’ saved [862182613/862182613]\n",
            "\n",
            "Archive:  glove.6B.zip\n",
            "  inflating: glove.6B.50d.txt        \n",
            "  inflating: glove.6B.100d.txt       \n",
            "  inflating: glove.6B.200d.txt       \n",
            "  inflating: glove.6B.300d.txt       \n",
            "--2022-06-09 18:01:02--  https://dl.fbaipublicfiles.com/fasttext/vectors-english/wiki-news-300d-1M.vec.zip\n",
            "Resolving dl.fbaipublicfiles.com (dl.fbaipublicfiles.com)... 172.67.9.4, 104.22.74.142, 104.22.75.142, ...\n",
            "Connecting to dl.fbaipublicfiles.com (dl.fbaipublicfiles.com)|172.67.9.4|:443... connected.\n",
            "HTTP request sent, awaiting response... 200 OK\n",
            "Length: 681808098 (650M) [application/zip]\n",
            "Saving to: ‘wiki-news-300d-1M.vec.zip’\n",
            "\n",
            "wiki-news-300d-1M.v 100%[===================>] 650.22M  40.9MB/s    in 16s     \n",
            "\n",
            "2022-06-09 18:01:19 (40.7 MB/s) - ‘wiki-news-300d-1M.vec.zip’ saved [681808098/681808098]\n",
            "\n",
            "Archive:  wiki-news-300d-1M.vec.zip\n",
            "  inflating: wiki-news-300d-1M.vec   \n"
          ]
        }
      ],
      "source": [
        "!wget https://nlp.stanford.edu/data/glove.6B.zip\n",
        "!unzip glove.6B.zip\n",
        "!wget https://dl.fbaipublicfiles.com/fasttext/vectors-english/wiki-news-300d-1M.vec.zip\n",
        "!unzip wiki-news-300d-1M.vec.zip"
      ]
    },
    {
      "cell_type": "code",
      "execution_count": 16,
      "metadata": {
        "colab": {
          "base_uri": "https://localhost:8080/"
        },
        "id": "_nA_c2pJaQgu",
        "outputId": "0b0c2a7b-37ea-45a5-bf48-2a0417f81c67"
      },
      "outputs": [
        {
          "output_type": "stream",
          "name": "stdout",
          "text": [
            "Looking in indexes: https://pypi.org/simple, https://us-python.pkg.dev/colab-wheels/public/simple/\n",
            "Requirement already satisfied: gensim in /usr/local/lib/python3.7/dist-packages (3.6.0)\n",
            "Collecting gensim\n",
            "  Downloading gensim-4.2.0-cp37-cp37m-manylinux_2_12_x86_64.manylinux2010_x86_64.whl (24.1 MB)\n",
            "\u001b[K     |████████████████████████████████| 24.1 MB 1.3 MB/s \n",
            "\u001b[?25hRequirement already satisfied: numpy>=1.17.0 in /usr/local/lib/python3.7/dist-packages (from gensim) (1.21.6)\n",
            "Requirement already satisfied: smart-open>=1.8.1 in /usr/local/lib/python3.7/dist-packages (from gensim) (6.0.0)\n",
            "Requirement already satisfied: scipy>=0.18.1 in /usr/local/lib/python3.7/dist-packages (from gensim) (1.4.1)\n",
            "Installing collected packages: gensim\n",
            "  Attempting uninstall: gensim\n",
            "    Found existing installation: gensim 3.6.0\n",
            "    Uninstalling gensim-3.6.0:\n",
            "      Successfully uninstalled gensim-3.6.0\n",
            "Successfully installed gensim-4.2.0\n"
          ]
        }
      ],
      "source": [
        "!pip install --upgrade gensim"
      ]
    },
    {
      "cell_type": "code",
      "execution_count": 17,
      "metadata": {
        "id": "CtpXZDbUbllT"
      },
      "outputs": [],
      "source": [
        "import gensim\n",
        "\n",
        "m = gensim.models.KeyedVectors.load_word2vec_format('wiki-news-300d-1M.vec')"
      ]
    },
    {
      "cell_type": "code",
      "execution_count": 18,
      "metadata": {
        "id": "VqKjpUrkOSnC",
        "colab": {
          "base_uri": "https://localhost:8080/"
        },
        "outputId": "f3c5316c-d2c2-4aa6-af6c-66d69dcb606e"
      },
      "outputs": [
        {
          "output_type": "stream",
          "name": "stdout",
          "text": [
            "Loaded 400000 word vectors\n"
          ]
        }
      ],
      "source": [
        "import numpy as np\n",
        "\n",
        "glove_file = 'glove.6B.50d.txt'\n",
        "glove = {}\n",
        "\n",
        "with open(glove_file) as f:\n",
        "  for line in f:\n",
        "    word, coefs = line.split(maxsplit=1)\n",
        "    glove[word] = np.fromstring(coefs, 'f', sep=' ')\n",
        "\n",
        "print(f'Loaded {len(glove)} word vectors')"
      ]
    },
    {
      "cell_type": "markdown",
      "metadata": {
        "id": "r8YCZLi-N0uR"
      },
      "source": [
        "# **Your Implementation**\n",
        "\n",
        "*Again, you don't have to have everything in one block. Use the notebook according to your preferences with the goal of fulfilling the assessment in mind.*"
      ]
    },
    {
      "cell_type": "markdown",
      "source": [
        "### Glove Word Vectors\n",
        "https://nlp.stanford.edu/projects/glove/"
      ],
      "metadata": {
        "id": "UXTUITQejhMI"
      }
    },
    {
      "cell_type": "code",
      "execution_count": 19,
      "metadata": {
        "id": "eVV8ewQrS5-s"
      },
      "outputs": [],
      "source": [
        "from numpy.linalg import norm\n",
        "\n",
        "def cosine_similarity(coefs1, coefs2):\n",
        "  return np.dot(coefs1, coefs2) / (norm(coefs1) * norm(coefs2))"
      ]
    },
    {
      "cell_type": "code",
      "execution_count": 20,
      "metadata": {
        "colab": {
          "base_uri": "https://localhost:8080/"
        },
        "id": "iAlKU8v8TTyQ",
        "outputId": "dc7a9de0-e6d6-47ff-9a9f-c514804ce695"
      },
      "outputs": [
        {
          "output_type": "stream",
          "name": "stdout",
          "text": [
            "Randomly selected word: aristogeiton\n"
          ]
        }
      ],
      "source": [
        "import random\n",
        "\n",
        "rand_word, rand_coefs = random.choice(list(glove.items()))\n",
        "\n",
        "print(f'Randomly selected word: {rand_word}')"
      ]
    },
    {
      "cell_type": "code",
      "execution_count": 21,
      "metadata": {
        "id": "6nz336vsToPs",
        "colab": {
          "base_uri": "https://localhost:8080/"
        },
        "outputId": "e8545643-6ceb-40bf-cc67-e8ba5938640a"
      },
      "outputs": [
        {
          "output_type": "stream",
          "name": "stdout",
          "text": [
            "Closest...\n",
            "10th - finfoots 0.7774593234062195\n",
            "100th - stanislau 0.7278056740760803\n",
            "1000th - ranx 0.6716418862342834\n"
          ]
        }
      ],
      "source": [
        "similarities = {}\n",
        "\n",
        "for word, coefs in glove.items():\n",
        "  similarities[word] = cosine_similarity(glove[word], rand_coefs)\n",
        "\n",
        "similarities\n",
        "\n",
        "result = sorted(similarities.items(), key=lambda x: x[1], reverse=True)\n",
        "\n",
        "print('Closest...')\n",
        "\n",
        "k, v = result[10]\n",
        "print(f'10th - {k} {v}')\n",
        "\n",
        "k, v = result[100]\n",
        "print(f'100th - {k} {v}')\n",
        "\n",
        "k, v = result[1000]\n",
        "print(f'1000th - {k} {v}')"
      ]
    },
    {
      "cell_type": "code",
      "source": [
        "while True:\n",
        "  try:\n",
        "    guess = input('Your guess: ')\n",
        "    similarity = cosine_similarity(glove[guess], rand_coefs)\n",
        "    print(f'{guess}: {similarity}')\n",
        "  except:\n",
        "    print('Word not found')\n",
        "  \n",
        "  if guess == rand_word:\n",
        "    print('Great job on guessing the word!')\n",
        "    break"
      ],
      "metadata": {
        "colab": {
          "base_uri": "https://localhost:8080/"
        },
        "id": "z-hnwnh0nD2x",
        "outputId": "c8c8796e-e7cf-45a7-f147-ccc7e1cdfbe8"
      },
      "execution_count": 22,
      "outputs": [
        {
          "output_type": "stream",
          "name": "stdout",
          "text": [
            "Your guess: finfoots\n",
            "finfoots: 0.7774593234062195\n",
            "Your guess: aristogeiton\n",
            "aristogeiton: 0.9999998807907104\n",
            "Great job on guessing the word!\n"
          ]
        }
      ]
    },
    {
      "cell_type": "markdown",
      "source": [
        "### English Word Vectors\n",
        "https://fasttext.cc/docs/en/english-vectors.html"
      ],
      "metadata": {
        "id": "J5bURP6SijqW"
      }
    },
    {
      "cell_type": "code",
      "source": [
        "rand_word = random.choice(m.index_to_key)\n",
        "\n",
        "print(f'Randomly selected word: {rand_word}')"
      ],
      "metadata": {
        "colab": {
          "base_uri": "https://localhost:8080/"
        },
        "id": "S9Esrq3tehXC",
        "outputId": "4cc826c1-c789-4048-ce24-9c113a8b95df"
      },
      "execution_count": 23,
      "outputs": [
        {
          "output_type": "stream",
          "name": "stdout",
          "text": [
            "Randomly selected word: eccentric\n"
          ]
        }
      ]
    },
    {
      "cell_type": "code",
      "source": [
        "result = m.most_similar(positive=[rand_word], topn=1000)\n",
        "\n",
        "print('Closest...')\n",
        "\n",
        "k, v = result[9]\n",
        "print(f'10th - {k} {v}')\n",
        "\n",
        "k, v = result[99]\n",
        "print(f'100th - {k} {v}')\n",
        "\n",
        "k, v = result[999]\n",
        "print(f'1000th - {k} {v}')"
      ],
      "metadata": {
        "colab": {
          "base_uri": "https://localhost:8080/"
        },
        "id": "M3zaBKw-fMn1",
        "outputId": "cb16ca4c-3967-4852-e20b-e193f1224ef7"
      },
      "execution_count": 24,
      "outputs": [
        {
          "output_type": "stream",
          "name": "stdout",
          "text": [
            "Closest...\n",
            "10th - eccentrics 0.6666312217712402\n",
            "100th - likably 0.5631003975868225\n",
            "1000th - strong-willed 0.48503807187080383\n"
          ]
        }
      ]
    },
    {
      "cell_type": "code",
      "source": [
        "while True:\n",
        "  try:\n",
        "    guess = input('Your guess: ')\n",
        "    similarity = m.similarity(rand_word, guess)\n",
        "    print(f'{guess}: {similarity}')\n",
        "  except:\n",
        "    print('Word not found')\n",
        "  \n",
        "  if guess == rand_word:\n",
        "    print('Great job on guessing the word!')\n",
        "    break"
      ],
      "metadata": {
        "colab": {
          "base_uri": "https://localhost:8080/"
        },
        "id": "X8vLjTyHg2y7",
        "outputId": "9f502591-0b16-49d0-cc2d-93176c126144"
      },
      "execution_count": 25,
      "outputs": [
        {
          "output_type": "stream",
          "name": "stdout",
          "text": [
            "Your guess: eccentrics\n",
            "eccentrics: 0.6666312217712402\n",
            "Your guess: eccentric\n",
            "eccentric: 1.0\n",
            "Great job on guessing the word!\n"
          ]
        }
      ]
    },
    {
      "cell_type": "markdown",
      "metadata": {
        "id": "h3smvUR6OXUa"
      },
      "source": [
        "# **Your Relfection / Takeaway / Analysis**\n",
        "\n",
        "*Kindly place the rest of your write up. More information is found in the Canvas write up.*"
      ]
    }
  ],
  "metadata": {
    "colab": {
      "collapsed_sections": [],
      "name": "PA5_Replicating_Semantle.ipynb",
      "provenance": []
    },
    "kernelspec": {
      "display_name": "Python 3",
      "language": "python",
      "name": "python3"
    },
    "language_info": {
      "codemirror_mode": {
        "name": "ipython",
        "version": 3
      },
      "file_extension": ".py",
      "mimetype": "text/x-python",
      "name": "python",
      "nbconvert_exporter": "python",
      "pygments_lexer": "ipython3",
      "version": "3.8.8"
    }
  },
  "nbformat": 4,
  "nbformat_minor": 0
}